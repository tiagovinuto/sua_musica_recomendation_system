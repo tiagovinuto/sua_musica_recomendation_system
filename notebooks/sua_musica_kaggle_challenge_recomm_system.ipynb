{
 "cells": [
  {
   "cell_type": "markdown",
   "id": "7b8fdcb8",
   "metadata": {
    "heading_collapsed": true
   },
   "source": [
    "# Requirements"
   ]
  },
  {
   "cell_type": "code",
   "execution_count": 2,
   "id": "09f99c8d",
   "metadata": {
    "ExecuteTime": {
     "end_time": "2023-07-23T14:53:19.603307Z",
     "start_time": "2023-07-23T14:53:19.215441Z"
    },
    "hidden": true
   },
   "outputs": [],
   "source": [
    "import random\n",
    "import numpy as np\n",
    "import pandas as pd\n",
    "from datetime import datetime"
   ]
  },
  {
   "cell_type": "markdown",
   "id": "d828a42a",
   "metadata": {},
   "source": [
    "# Functions"
   ]
  },
  {
   "cell_type": "markdown",
   "id": "03d69ac3",
   "metadata": {
    "heading_collapsed": true
   },
   "source": [
    "## transactional data"
   ]
  },
  {
   "cell_type": "code",
   "execution_count": 3,
   "id": "64630332",
   "metadata": {
    "ExecuteTime": {
     "end_time": "2023-07-23T14:53:19.633313Z",
     "start_time": "2023-07-23T14:53:19.603307Z"
    },
    "hidden": true
   },
   "outputs": [],
   "source": [
    "def create_df_modeling(start_date, end_date,\n",
    "                       low_user, high_user, dau,\n",
    "                       low_track, high_track, \n",
    "                       min_plays, max_plays,\n",
    "                       min_n_tracks, max_n_tracks\n",
    "                      ):\n",
    "    # creates a range of dates\n",
    "    date_range = pd.date_range(start_date, end_date)\n",
    "    # creates empty array for the final user array\n",
    "    user_array_acum = []\n",
    "    # creates empty array for the final id_date array\n",
    "    date_array_acum = []\n",
    "    # creates empty array for the final track array\n",
    "    tracks_array_acum = []\n",
    "    # creates empty array for the final plays array\n",
    "    plays_array_acum = []\n",
    "    # minimum number of random listeners per day (dau)\n",
    "    length_user = 1 + int((high_user-low_user) * dau)\n",
    "    # for loop to random create transactional data\n",
    "    for current_date in date_range:\n",
    "        #\n",
    "        user_array = np.random.randint(low_user, high_user, size = length_user)\n",
    "        user_array_col = np.reshape(user_array, (len(user_array), 1))\n",
    "        user_array_acum.append(user_array_col)\n",
    "        #\n",
    "        date_array = current_date.strftime(\"%Y-%m-%d\")\n",
    "        date_array = np.full(len(user_array), current_date)\n",
    "        date_array_col = np.reshape(date_array, (len(date_array), 1))\n",
    "        date_array_acum.append(date_array_col)\n",
    "    # for loop that ranges from the min id_user to the max id_user\n",
    "    for k in range(0,len(np.concatenate(user_array_acum))):\n",
    "        # defines randomly the maximum range of tracks a listener can listen in 1 single day\n",
    "        length_size = random.randint(min_n_tracks, max_n_tracks)\n",
    "        # selects at random an array of id_track for the specific listener\n",
    "        tracks_array = np.random.randint(low_track, high_track, size = length_size)\n",
    "        tracks_array_acum.append(tracks_array)\n",
    "        # select at random the average of plays given by each user on a giving day\n",
    "        plays_array = np.random.randint(min_plays, max_plays, size = length_size)\n",
    "        plays_array_acum.append(plays_array) \n",
    "    # concatenates the arrays of date, id_user and plays on the final dataframe\n",
    "    date_array_final = np.concatenate(date_array_acum, axis = 0)\n",
    "    user_array_final = np.concatenate(user_array_acum, axis = 0)\n",
    "    # creates the final transactional dataframe with id_users and number of plays for each day\n",
    "    df = pd.DataFrame({'id_date':date_array_final.reshape(len(date_array_final)),\n",
    "                       'user_id':user_array_final.reshape(len(user_array_final)),\n",
    "                       'id_tracks': tracks_array_acum,\n",
    "                       'plays':plays_array_acum\n",
    "                      })\n",
    "    # explodes the final dataframe to create a vertical transactional table\n",
    "    df = df.explode(['id_tracks','plays']).reset_index(drop=True)\n",
    "    #\n",
    "    return df"
   ]
  },
  {
   "cell_type": "markdown",
   "id": "d77e63e0",
   "metadata": {
    "heading_collapsed": true
   },
   "source": [
    "## Dimensional content"
   ]
  },
  {
   "cell_type": "code",
   "execution_count": 4,
   "id": "1944c4e4",
   "metadata": {
    "ExecuteTime": {
     "end_time": "2023-07-23T14:53:19.648939Z",
     "start_time": "2023-07-23T14:53:19.633313Z"
    },
    "hidden": true
   },
   "outputs": [],
   "source": [
    "def create_dim_content(n_tracks, min_tracks, max_tracks, n_artists, n_genres):\n",
    "    # creates an initial list of id_tracks\n",
    "    id_track_list = [i for i in range(1,n_tracks+1)]\n",
    "    # creates an initial list of id_artists\n",
    "    id_artist_list = [i for i in range(1, n_artists+1)]\n",
    "    # creates an initial list of id_genres\n",
    "    id_genres = [i for i in range(1,n_genres)]\n",
    "    # creates array with the specific size of tracks by artists to be distributed amongst all artists\n",
    "    artist_array_sizes = np.random.randint(min_tracks, max_tracks, size = n_artists).tolist()\n",
    "    # Create a copy of the list\n",
    "    list_copy = id_track_list.copy()\n",
    "    # initiates an empty array to store results of for loop append (arrays of id_tracks)\n",
    "    sampled_arrays_acum = []\n",
    "    # initiates an empty array to store results of for loop append (arrays of id_genre)\n",
    "    sampled_arrays_genre_acum = []\n",
    "    # for loop to interate and create the dimensional data for id_artists and id_tracks\n",
    "    for size in artist_array_sizes:\n",
    "        if size <= len(list_copy):\n",
    "            sampled_arrays = random.sample(list_copy, size)\n",
    "            sampled_arrays_genre = random.choices(id_genres, k = size)\n",
    "            sampled_arrays_acum.append(sampled_arrays)\n",
    "            sampled_arrays_genre_acum.append(sampled_arrays_genre)\n",
    "            list_copy = [item for item in list_copy if item not in sampled_arrays]\n",
    "    # creates the final dimensional dataframe\n",
    "    df = pd.DataFrame({'id_artist':id_artist_list,\n",
    "                       'id_tracks':sampled_arrays_acum,\n",
    "                       'id_genre':sampled_arrays_genre_acum\n",
    "                      })\n",
    "    # explodes the final dataframe to create a vertical dimensional table\n",
    "    df = df.explode(['id_tracks','id_genre']).reset_index(drop = True)\n",
    "    #\n",
    "    return df"
   ]
  },
  {
   "cell_type": "markdown",
   "id": "f9e9af64",
   "metadata": {
    "heading_collapsed": true
   },
   "source": [
    "## Features for artists"
   ]
  },
  {
   "cell_type": "code",
   "execution_count": 5,
   "id": "7e372bcb",
   "metadata": {
    "ExecuteTime": {
     "end_time": "2023-07-23T14:53:19.664552Z",
     "start_time": "2023-07-23T14:53:19.648939Z"
    },
    "hidden": true
   },
   "outputs": [],
   "source": [
    "def creates_features(n_features,n_artists,std_max, min_mean, max_mean):\n",
    "    # creates an array with standard deviation of a uniform distribution\n",
    "    std_array = [random.uniform(0, std_max) for i in range(0,n_features)]\n",
    "    # creates an array with mean values of a uniform distribution\n",
    "    mean_array = [random.randint(min_mean, max_mean) for i in range(0,n_features)]\n",
    "    # creates an empty array with the number of rows as the same of the length of the quantity of artists\n",
    "    result = np.empty((n_artists, 0))\n",
    "    for i in range(0,n_features):\n",
    "        feature_i = np.random.normal(mean_array[i], std_array[i] * mean_array[i], n_artists)\n",
    "        feature_i = feature_i.astype(int)\n",
    "        result = np.column_stack((result, feature_i))\n",
    "        result = result.astype(int)\n",
    "    # creates the list of id_artist\n",
    "    id_artist = [i for i in range(1,n_artists+1)]\n",
    "    # fills values on the result array\n",
    "    result = np.column_stack((id_artist,result))\n",
    "    # creates a list with only one element\n",
    "    artist_col_names = ['id_artist']\n",
    "    # creates a list with the names of the features that will be used on the final dataframe\n",
    "    feat_col_names = ['Feature'+str(i) for i in range(1,n_features+1)]\n",
    "    # adds two lists (elements will be use as the header of the final dataframe)\n",
    "    col_names = artist_col_names + feat_col_names\n",
    "    # final dataframe with features by artist\n",
    "    df = pd.DataFrame(result, columns = col_names)\n",
    "    return df"
   ]
  },
  {
   "cell_type": "markdown",
   "id": "5b94d5c5",
   "metadata": {},
   "source": [
    "# Pipeline"
   ]
  },
  {
   "cell_type": "markdown",
   "id": "ef578b69",
   "metadata": {
    "heading_collapsed": true
   },
   "source": [
    "## Defining global parameters"
   ]
  },
  {
   "cell_type": "code",
   "execution_count": 6,
   "id": "a45482a4",
   "metadata": {
    "ExecuteTime": {
     "end_time": "2023-07-23T14:53:19.680183Z",
     "start_time": "2023-07-23T14:53:19.664552Z"
    },
    "hidden": true
   },
   "outputs": [],
   "source": [
    "########################################################################################################\n",
    "######################### input parameters for the create_df_modeling function #########################\n",
    "# Define the range of dates for the trasactional dataset\n",
    "start_date = datetime(2023, 1, 1).strftime('%Y-%m-%d')\n",
    "end_date = datetime(2023, 1, 31).strftime('%Y-%m-%d')\n",
    "# defines the minimum id_user to consider\n",
    "low_user = 1\n",
    "# defines the maximum id_user to consider\n",
    "high_user = 50\n",
    "# defines the daily audience (the percentage of the sample size of users) for each id_date\n",
    "dau = 0.1\n",
    "# defines the minimum id_track available\n",
    "low_track = 1\n",
    "# defines the maximum id_track available\n",
    "high_track = 4000\n",
    "# defines the minimum number of plays a listener can hit play every day\n",
    "min_plays = 1\n",
    "# defines the maximum number of plays a listener can hit play every day\n",
    "max_plays = 20\n",
    "# defines the minimum number of tracks a listener can listen to every day\n",
    "min_n_tracks = 2\n",
    "# defines the maximum number of tracks a listener can listen to every day\n",
    "max_n_tracks = 5\n",
    "\n",
    "\n",
    "########################################################################################################\n",
    "################ input parameters for the create_dim_content function ##################################\n",
    "# defines the total number of tracks\n",
    "n_tracks = high_track\n",
    "# defines the total number of id_artist\n",
    "n_artists = 500\n",
    "# defines the total number of genres\n",
    "n_genres = 5\n",
    "# defines the minimum number of tracks by id_artist\n",
    "min_tracks = 2 * round((n_tracks/n_artists),0) * 0.2\n",
    "# defines the maximum number of tracks by id_artist\n",
    "max_tracks = 2 * round((n_tracks/n_artists),0) * 0.8\n",
    "\n",
    "\n",
    "########################################################################################################\n",
    "################ input parameters for the creates_features function ##################################\n",
    "# number of features that are going to appear on the final dataframe\n",
    "n_features = 10\n",
    "# maximum standard deviation value for each of the feature\n",
    "std_max = 1\n",
    "# minimum value for the mean value for each of the features\n",
    "min_mean = 100\n",
    "# maximum value for the mean value for each of the features\n",
    "max_mean = 1500"
   ]
  },
  {
   "cell_type": "markdown",
   "id": "cce5f6d2",
   "metadata": {
    "heading_collapsed": true
   },
   "source": [
    "## Creates df transactional data"
   ]
  },
  {
   "cell_type": "code",
   "execution_count": 7,
   "id": "8a4e2603",
   "metadata": {
    "ExecuteTime": {
     "end_time": "2023-07-23T14:53:19.695807Z",
     "start_time": "2023-07-23T14:53:19.680183Z"
    },
    "hidden": true
   },
   "outputs": [],
   "source": [
    "#\n",
    "df = create_df_modeling(start_date, end_date,\n",
    "                        low_user, high_user, dau,\n",
    "                        low_track, high_track, \n",
    "                        min_plays, max_plays,\n",
    "                        min_n_tracks, max_n_tracks\n",
    "                       )"
   ]
  },
  {
   "cell_type": "markdown",
   "id": "85b8338e",
   "metadata": {
    "heading_collapsed": true
   },
   "source": [
    "## Creates df dimensional content"
   ]
  },
  {
   "cell_type": "code",
   "execution_count": 8,
   "id": "2176052b",
   "metadata": {
    "ExecuteTime": {
     "end_time": "2023-07-23T14:53:19.789556Z",
     "start_time": "2023-07-23T14:53:19.695807Z"
    },
    "hidden": true
   },
   "outputs": [],
   "source": [
    "dc = create_dim_content(n_tracks,min_tracks,max_tracks,n_artists, n_genres)"
   ]
  },
  {
   "cell_type": "markdown",
   "id": "928bf400",
   "metadata": {
    "heading_collapsed": true
   },
   "source": [
    "## Creates df with features by artist"
   ]
  },
  {
   "cell_type": "code",
   "execution_count": 9,
   "id": "fc54e200",
   "metadata": {
    "ExecuteTime": {
     "end_time": "2023-07-23T14:53:19.805188Z",
     "start_time": "2023-07-23T14:53:19.789556Z"
    },
    "hidden": true
   },
   "outputs": [],
   "source": [
    "df_feat = creates_features(n_features,n_artists,std_max, min_mean, max_mean)"
   ]
  },
  {
   "cell_type": "markdown",
   "id": "9e9f4a67",
   "metadata": {},
   "source": [
    "# Artefacts"
   ]
  },
  {
   "cell_type": "markdown",
   "id": "39629d3e",
   "metadata": {
    "heading_collapsed": true
   },
   "source": [
    "## Transactional data source (reference modeling dataframe)"
   ]
  },
  {
   "cell_type": "code",
   "execution_count": 10,
   "id": "0eeb8d70",
   "metadata": {
    "ExecuteTime": {
     "end_time": "2023-07-23T14:53:19.820806Z",
     "start_time": "2023-07-23T14:53:19.805188Z"
    },
    "hidden": true
   },
   "outputs": [
    {
     "data": {
      "text/html": [
       "<div>\n",
       "<style scoped>\n",
       "    .dataframe tbody tr th:only-of-type {\n",
       "        vertical-align: middle;\n",
       "    }\n",
       "\n",
       "    .dataframe tbody tr th {\n",
       "        vertical-align: top;\n",
       "    }\n",
       "\n",
       "    .dataframe thead th {\n",
       "        text-align: right;\n",
       "    }\n",
       "</style>\n",
       "<table border=\"1\" class=\"dataframe\">\n",
       "  <thead>\n",
       "    <tr style=\"text-align: right;\">\n",
       "      <th></th>\n",
       "      <th>id_date</th>\n",
       "      <th>user_id</th>\n",
       "      <th>id_tracks</th>\n",
       "      <th>plays</th>\n",
       "    </tr>\n",
       "  </thead>\n",
       "  <tbody>\n",
       "    <tr>\n",
       "      <th>0</th>\n",
       "      <td>2023-01-01</td>\n",
       "      <td>26</td>\n",
       "      <td>2194</td>\n",
       "      <td>15</td>\n",
       "    </tr>\n",
       "    <tr>\n",
       "      <th>1</th>\n",
       "      <td>2023-01-01</td>\n",
       "      <td>26</td>\n",
       "      <td>2897</td>\n",
       "      <td>3</td>\n",
       "    </tr>\n",
       "    <tr>\n",
       "      <th>2</th>\n",
       "      <td>2023-01-01</td>\n",
       "      <td>26</td>\n",
       "      <td>3097</td>\n",
       "      <td>11</td>\n",
       "    </tr>\n",
       "    <tr>\n",
       "      <th>3</th>\n",
       "      <td>2023-01-01</td>\n",
       "      <td>26</td>\n",
       "      <td>829</td>\n",
       "      <td>18</td>\n",
       "    </tr>\n",
       "    <tr>\n",
       "      <th>4</th>\n",
       "      <td>2023-01-01</td>\n",
       "      <td>26</td>\n",
       "      <td>3319</td>\n",
       "      <td>11</td>\n",
       "    </tr>\n",
       "    <tr>\n",
       "      <th>...</th>\n",
       "      <td>...</td>\n",
       "      <td>...</td>\n",
       "      <td>...</td>\n",
       "      <td>...</td>\n",
       "    </tr>\n",
       "    <tr>\n",
       "      <th>560</th>\n",
       "      <td>2023-01-31</td>\n",
       "      <td>42</td>\n",
       "      <td>2239</td>\n",
       "      <td>6</td>\n",
       "    </tr>\n",
       "    <tr>\n",
       "      <th>561</th>\n",
       "      <td>2023-01-31</td>\n",
       "      <td>42</td>\n",
       "      <td>2474</td>\n",
       "      <td>17</td>\n",
       "    </tr>\n",
       "    <tr>\n",
       "      <th>562</th>\n",
       "      <td>2023-01-31</td>\n",
       "      <td>42</td>\n",
       "      <td>1301</td>\n",
       "      <td>19</td>\n",
       "    </tr>\n",
       "    <tr>\n",
       "      <th>563</th>\n",
       "      <td>2023-01-31</td>\n",
       "      <td>15</td>\n",
       "      <td>1117</td>\n",
       "      <td>18</td>\n",
       "    </tr>\n",
       "    <tr>\n",
       "      <th>564</th>\n",
       "      <td>2023-01-31</td>\n",
       "      <td>15</td>\n",
       "      <td>1348</td>\n",
       "      <td>4</td>\n",
       "    </tr>\n",
       "  </tbody>\n",
       "</table>\n",
       "<p>565 rows × 4 columns</p>\n",
       "</div>"
      ],
      "text/plain": [
       "       id_date  user_id id_tracks plays\n",
       "0   2023-01-01       26      2194    15\n",
       "1   2023-01-01       26      2897     3\n",
       "2   2023-01-01       26      3097    11\n",
       "3   2023-01-01       26       829    18\n",
       "4   2023-01-01       26      3319    11\n",
       "..         ...      ...       ...   ...\n",
       "560 2023-01-31       42      2239     6\n",
       "561 2023-01-31       42      2474    17\n",
       "562 2023-01-31       42      1301    19\n",
       "563 2023-01-31       15      1117    18\n",
       "564 2023-01-31       15      1348     4\n",
       "\n",
       "[565 rows x 4 columns]"
      ]
     },
     "execution_count": 10,
     "metadata": {},
     "output_type": "execute_result"
    }
   ],
   "source": [
    "df"
   ]
  },
  {
   "cell_type": "markdown",
   "id": "50d4b76e",
   "metadata": {
    "heading_collapsed": true
   },
   "source": [
    "## Dimensional data source with musical genre for each track"
   ]
  },
  {
   "cell_type": "code",
   "execution_count": 11,
   "id": "3e66c22d",
   "metadata": {
    "ExecuteTime": {
     "end_time": "2023-07-23T14:53:19.836426Z",
     "start_time": "2023-07-23T14:53:19.820806Z"
    },
    "hidden": true
   },
   "outputs": [
    {
     "data": {
      "text/html": [
       "<div>\n",
       "<style scoped>\n",
       "    .dataframe tbody tr th:only-of-type {\n",
       "        vertical-align: middle;\n",
       "    }\n",
       "\n",
       "    .dataframe tbody tr th {\n",
       "        vertical-align: top;\n",
       "    }\n",
       "\n",
       "    .dataframe thead th {\n",
       "        text-align: right;\n",
       "    }\n",
       "</style>\n",
       "<table border=\"1\" class=\"dataframe\">\n",
       "  <thead>\n",
       "    <tr style=\"text-align: right;\">\n",
       "      <th></th>\n",
       "      <th>id_artist</th>\n",
       "      <th>id_tracks</th>\n",
       "      <th>id_genre</th>\n",
       "    </tr>\n",
       "  </thead>\n",
       "  <tbody>\n",
       "    <tr>\n",
       "      <th>0</th>\n",
       "      <td>1</td>\n",
       "      <td>941</td>\n",
       "      <td>1</td>\n",
       "    </tr>\n",
       "    <tr>\n",
       "      <th>1</th>\n",
       "      <td>1</td>\n",
       "      <td>892</td>\n",
       "      <td>3</td>\n",
       "    </tr>\n",
       "    <tr>\n",
       "      <th>2</th>\n",
       "      <td>1</td>\n",
       "      <td>2008</td>\n",
       "      <td>3</td>\n",
       "    </tr>\n",
       "    <tr>\n",
       "      <th>3</th>\n",
       "      <td>1</td>\n",
       "      <td>2298</td>\n",
       "      <td>3</td>\n",
       "    </tr>\n",
       "    <tr>\n",
       "      <th>4</th>\n",
       "      <td>2</td>\n",
       "      <td>2968</td>\n",
       "      <td>1</td>\n",
       "    </tr>\n",
       "    <tr>\n",
       "      <th>...</th>\n",
       "      <td>...</td>\n",
       "      <td>...</td>\n",
       "      <td>...</td>\n",
       "    </tr>\n",
       "    <tr>\n",
       "      <th>3597</th>\n",
       "      <td>500</td>\n",
       "      <td>3407</td>\n",
       "      <td>4</td>\n",
       "    </tr>\n",
       "    <tr>\n",
       "      <th>3598</th>\n",
       "      <td>500</td>\n",
       "      <td>1560</td>\n",
       "      <td>1</td>\n",
       "    </tr>\n",
       "    <tr>\n",
       "      <th>3599</th>\n",
       "      <td>500</td>\n",
       "      <td>2290</td>\n",
       "      <td>4</td>\n",
       "    </tr>\n",
       "    <tr>\n",
       "      <th>3600</th>\n",
       "      <td>500</td>\n",
       "      <td>3549</td>\n",
       "      <td>1</td>\n",
       "    </tr>\n",
       "    <tr>\n",
       "      <th>3601</th>\n",
       "      <td>500</td>\n",
       "      <td>3283</td>\n",
       "      <td>1</td>\n",
       "    </tr>\n",
       "  </tbody>\n",
       "</table>\n",
       "<p>3602 rows × 3 columns</p>\n",
       "</div>"
      ],
      "text/plain": [
       "      id_artist id_tracks id_genre\n",
       "0             1       941        1\n",
       "1             1       892        3\n",
       "2             1      2008        3\n",
       "3             1      2298        3\n",
       "4             2      2968        1\n",
       "...         ...       ...      ...\n",
       "3597        500      3407        4\n",
       "3598        500      1560        1\n",
       "3599        500      2290        4\n",
       "3600        500      3549        1\n",
       "3601        500      3283        1\n",
       "\n",
       "[3602 rows x 3 columns]"
      ]
     },
     "execution_count": 11,
     "metadata": {},
     "output_type": "execute_result"
    }
   ],
   "source": [
    "dc"
   ]
  },
  {
   "cell_type": "markdown",
   "id": "e1b30b1b",
   "metadata": {
    "heading_collapsed": true
   },
   "source": [
    "## Data source with feature values for each artist"
   ]
  },
  {
   "cell_type": "code",
   "execution_count": 12,
   "id": "ceb0aaf2",
   "metadata": {
    "ExecuteTime": {
     "end_time": "2023-07-23T14:53:19.852058Z",
     "start_time": "2023-07-23T14:53:19.836426Z"
    },
    "hidden": true
   },
   "outputs": [
    {
     "data": {
      "text/html": [
       "<div>\n",
       "<style scoped>\n",
       "    .dataframe tbody tr th:only-of-type {\n",
       "        vertical-align: middle;\n",
       "    }\n",
       "\n",
       "    .dataframe tbody tr th {\n",
       "        vertical-align: top;\n",
       "    }\n",
       "\n",
       "    .dataframe thead th {\n",
       "        text-align: right;\n",
       "    }\n",
       "</style>\n",
       "<table border=\"1\" class=\"dataframe\">\n",
       "  <thead>\n",
       "    <tr style=\"text-align: right;\">\n",
       "      <th></th>\n",
       "      <th>id_artist</th>\n",
       "      <th>Feature1</th>\n",
       "      <th>Feature2</th>\n",
       "      <th>Feature3</th>\n",
       "      <th>Feature4</th>\n",
       "      <th>Feature5</th>\n",
       "      <th>Feature6</th>\n",
       "      <th>Feature7</th>\n",
       "      <th>Feature8</th>\n",
       "      <th>Feature9</th>\n",
       "      <th>Feature10</th>\n",
       "    </tr>\n",
       "  </thead>\n",
       "  <tbody>\n",
       "    <tr>\n",
       "      <th>0</th>\n",
       "      <td>1</td>\n",
       "      <td>4</td>\n",
       "      <td>394</td>\n",
       "      <td>113</td>\n",
       "      <td>578</td>\n",
       "      <td>572</td>\n",
       "      <td>394</td>\n",
       "      <td>1099</td>\n",
       "      <td>1263</td>\n",
       "      <td>1456</td>\n",
       "      <td>-50</td>\n",
       "    </tr>\n",
       "    <tr>\n",
       "      <th>1</th>\n",
       "      <td>2</td>\n",
       "      <td>116</td>\n",
       "      <td>298</td>\n",
       "      <td>199</td>\n",
       "      <td>60</td>\n",
       "      <td>679</td>\n",
       "      <td>247</td>\n",
       "      <td>1108</td>\n",
       "      <td>1307</td>\n",
       "      <td>2131</td>\n",
       "      <td>791</td>\n",
       "    </tr>\n",
       "    <tr>\n",
       "      <th>2</th>\n",
       "      <td>3</td>\n",
       "      <td>10</td>\n",
       "      <td>232</td>\n",
       "      <td>228</td>\n",
       "      <td>1044</td>\n",
       "      <td>296</td>\n",
       "      <td>625</td>\n",
       "      <td>1206</td>\n",
       "      <td>1313</td>\n",
       "      <td>159</td>\n",
       "      <td>293</td>\n",
       "    </tr>\n",
       "    <tr>\n",
       "      <th>3</th>\n",
       "      <td>4</td>\n",
       "      <td>179</td>\n",
       "      <td>457</td>\n",
       "      <td>200</td>\n",
       "      <td>279</td>\n",
       "      <td>227</td>\n",
       "      <td>309</td>\n",
       "      <td>1190</td>\n",
       "      <td>1274</td>\n",
       "      <td>555</td>\n",
       "      <td>1522</td>\n",
       "    </tr>\n",
       "    <tr>\n",
       "      <th>4</th>\n",
       "      <td>5</td>\n",
       "      <td>145</td>\n",
       "      <td>320</td>\n",
       "      <td>130</td>\n",
       "      <td>409</td>\n",
       "      <td>220</td>\n",
       "      <td>261</td>\n",
       "      <td>1174</td>\n",
       "      <td>1224</td>\n",
       "      <td>493</td>\n",
       "      <td>806</td>\n",
       "    </tr>\n",
       "    <tr>\n",
       "      <th>...</th>\n",
       "      <td>...</td>\n",
       "      <td>...</td>\n",
       "      <td>...</td>\n",
       "      <td>...</td>\n",
       "      <td>...</td>\n",
       "      <td>...</td>\n",
       "      <td>...</td>\n",
       "      <td>...</td>\n",
       "      <td>...</td>\n",
       "      <td>...</td>\n",
       "      <td>...</td>\n",
       "    </tr>\n",
       "    <tr>\n",
       "      <th>495</th>\n",
       "      <td>496</td>\n",
       "      <td>74</td>\n",
       "      <td>28</td>\n",
       "      <td>280</td>\n",
       "      <td>1190</td>\n",
       "      <td>86</td>\n",
       "      <td>576</td>\n",
       "      <td>1187</td>\n",
       "      <td>1294</td>\n",
       "      <td>1303</td>\n",
       "      <td>657</td>\n",
       "    </tr>\n",
       "    <tr>\n",
       "      <th>496</th>\n",
       "      <td>497</td>\n",
       "      <td>114</td>\n",
       "      <td>416</td>\n",
       "      <td>214</td>\n",
       "      <td>1217</td>\n",
       "      <td>785</td>\n",
       "      <td>179</td>\n",
       "      <td>1156</td>\n",
       "      <td>1232</td>\n",
       "      <td>15</td>\n",
       "      <td>685</td>\n",
       "    </tr>\n",
       "    <tr>\n",
       "      <th>497</th>\n",
       "      <td>498</td>\n",
       "      <td>188</td>\n",
       "      <td>324</td>\n",
       "      <td>321</td>\n",
       "      <td>1547</td>\n",
       "      <td>1017</td>\n",
       "      <td>457</td>\n",
       "      <td>1202</td>\n",
       "      <td>1257</td>\n",
       "      <td>609</td>\n",
       "      <td>482</td>\n",
       "    </tr>\n",
       "    <tr>\n",
       "      <th>498</th>\n",
       "      <td>499</td>\n",
       "      <td>85</td>\n",
       "      <td>240</td>\n",
       "      <td>291</td>\n",
       "      <td>768</td>\n",
       "      <td>1240</td>\n",
       "      <td>420</td>\n",
       "      <td>1206</td>\n",
       "      <td>1332</td>\n",
       "      <td>-105</td>\n",
       "      <td>535</td>\n",
       "    </tr>\n",
       "    <tr>\n",
       "      <th>499</th>\n",
       "      <td>500</td>\n",
       "      <td>48</td>\n",
       "      <td>551</td>\n",
       "      <td>270</td>\n",
       "      <td>-63</td>\n",
       "      <td>783</td>\n",
       "      <td>114</td>\n",
       "      <td>1125</td>\n",
       "      <td>1310</td>\n",
       "      <td>1114</td>\n",
       "      <td>623</td>\n",
       "    </tr>\n",
       "  </tbody>\n",
       "</table>\n",
       "<p>500 rows × 11 columns</p>\n",
       "</div>"
      ],
      "text/plain": [
       "     id_artist  Feature1  Feature2  Feature3  Feature4  Feature5  Feature6  \\\n",
       "0            1         4       394       113       578       572       394   \n",
       "1            2       116       298       199        60       679       247   \n",
       "2            3        10       232       228      1044       296       625   \n",
       "3            4       179       457       200       279       227       309   \n",
       "4            5       145       320       130       409       220       261   \n",
       "..         ...       ...       ...       ...       ...       ...       ...   \n",
       "495        496        74        28       280      1190        86       576   \n",
       "496        497       114       416       214      1217       785       179   \n",
       "497        498       188       324       321      1547      1017       457   \n",
       "498        499        85       240       291       768      1240       420   \n",
       "499        500        48       551       270       -63       783       114   \n",
       "\n",
       "     Feature7  Feature8  Feature9  Feature10  \n",
       "0        1099      1263      1456        -50  \n",
       "1        1108      1307      2131        791  \n",
       "2        1206      1313       159        293  \n",
       "3        1190      1274       555       1522  \n",
       "4        1174      1224       493        806  \n",
       "..        ...       ...       ...        ...  \n",
       "495      1187      1294      1303        657  \n",
       "496      1156      1232        15        685  \n",
       "497      1202      1257       609        482  \n",
       "498      1206      1332      -105        535  \n",
       "499      1125      1310      1114        623  \n",
       "\n",
       "[500 rows x 11 columns]"
      ]
     },
     "execution_count": 12,
     "metadata": {},
     "output_type": "execute_result"
    }
   ],
   "source": [
    "df_feat"
   ]
  },
  {
   "cell_type": "code",
   "execution_count": 16,
   "id": "0768f7a6-1ae4-4ee1-9721-572f6cba28ff",
   "metadata": {},
   "outputs": [],
   "source": [
    "df.to_csv('./data/df_transactional.csv', index=False)"
   ]
  },
  {
   "cell_type": "code",
   "execution_count": 17,
   "id": "b5eb5323-6e87-4fdc-943f-7d9036d1df5b",
   "metadata": {},
   "outputs": [],
   "source": [
    "dc.to_csv('./data/df_dimensional.csv', index=False)"
   ]
  },
  {
   "cell_type": "code",
   "execution_count": 18,
   "id": "29591a18-620f-43f1-b988-69edd4264d80",
   "metadata": {},
   "outputs": [],
   "source": [
    "df_feat.to_csv('./data/df_artist_features.csv', index=False)"
   ]
  },
  {
   "cell_type": "code",
   "execution_count": null,
   "id": "90b18d60-3f1c-4a38-971c-e01e5a45acfe",
   "metadata": {},
   "outputs": [],
   "source": []
  }
 ],
 "metadata": {
  "hide_input": false,
  "kernelspec": {
   "display_name": "Python 3 (ipykernel)",
   "language": "python",
   "name": "python3"
  },
  "language_info": {
   "codemirror_mode": {
    "name": "ipython",
    "version": 3
   },
   "file_extension": ".py",
   "mimetype": "text/x-python",
   "name": "python",
   "nbconvert_exporter": "python",
   "pygments_lexer": "ipython3",
   "version": "3.10.12"
  },
  "toc": {
   "base_numbering": 1,
   "nav_menu": {},
   "number_sections": true,
   "sideBar": true,
   "skip_h1_title": false,
   "title_cell": "Table of Contents",
   "title_sidebar": "Contents",
   "toc_cell": false,
   "toc_position": {
    "height": "calc(100% - 180px)",
    "left": "10px",
    "top": "150px",
    "width": "279.273px"
   },
   "toc_section_display": true,
   "toc_window_display": true
  }
 },
 "nbformat": 4,
 "nbformat_minor": 5
}
